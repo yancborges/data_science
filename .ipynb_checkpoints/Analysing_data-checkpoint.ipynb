{
 "cells": [
  {
   "cell_type": "code",
   "execution_count": 1,
   "metadata": {},
   "outputs": [],
   "source": [
    "############################## Analysing data\n",
    "import pandas as pd"
   ]
  },
  {
   "cell_type": "code",
   "execution_count": 4,
   "metadata": {},
   "outputs": [
    {
     "name": "stderr",
     "output_type": "stream",
     "text": [
      "c:\\python36\\lib\\site-packages\\IPython\\core\\interactiveshell.py:3044: DtypeWarning: Columns (6) have mixed types. Specify dtype option on import or set low_memory=False.\n",
      "  interactivity=interactivity, compiler=compiler, result=result)\n"
     ]
    }
   ],
   "source": [
    "data = pd.read_csv('C://Users//Yan//Documents//GitHub//STORAGE//sa_police.csv')"
   ]
  },
  {
   "cell_type": "code",
   "execution_count": 5,
   "metadata": {},
   "outputs": [
    {
     "data": {
      "text/plain": [
       "Index(['raw_row_number', 'date', 'time', 'location', 'lat', 'lng', 'district',\n",
       "       'subject_age', 'subject_race', 'subject_sex', 'type', 'arrest_made',\n",
       "       'citation_issued', 'warning_issued', 'outcome', 'contraband_found',\n",
       "       'search_conducted', 'search_vehicle', 'search_basis',\n",
       "       'reason_for_stop'],\n",
       "      dtype='object')"
      ]
     },
     "execution_count": 5,
     "metadata": {},
     "output_type": "execute_result"
    }
   ],
   "source": [
    "data.columns"
   ]
  },
  {
   "cell_type": "code",
   "execution_count": 7,
   "metadata": {},
   "outputs": [
    {
     "data": {
      "text/plain": [
       "citation    633508\n",
       "warning     246471\n",
       "arrest       11967\n",
       "Name: outcome, dtype: int64"
      ]
     },
     "execution_count": 7,
     "metadata": {},
     "output_type": "execute_result"
    }
   ],
   "source": [
    "data.outcome.head()\n",
    "data.outcome.value_counts()"
   ]
  },
  {
   "cell_type": "code",
   "execution_count": 9,
   "metadata": {},
   "outputs": [
    {
     "data": {
      "text/plain": [
       "white                     0.411357\n",
       "asian/pacific islander    0.174244\n",
       "black                     0.168141\n",
       "hispanic                  0.128224\n",
       "other/unknown             0.118033\n",
       "Name: subject_race, dtype: float64"
      ]
     },
     "execution_count": 9,
     "metadata": {},
     "output_type": "execute_result"
    }
   ],
   "source": [
    "data.subject_race.value_counts(normalize=True)"
   ]
  },
  {
   "cell_type": "code",
   "execution_count": 17,
   "metadata": {},
   "outputs": [
    {
     "data": {
      "text/plain": [
       "(373414, 20)"
      ]
     },
     "execution_count": 17,
     "metadata": {},
     "output_type": "execute_result"
    }
   ],
   "source": [
    "white = data[data.subject_race == 'white']\n",
    "white.shape"
   ]
  },
  {
   "cell_type": "code",
   "execution_count": 18,
   "metadata": {},
   "outputs": [
    {
     "data": {
      "text/plain": [
       "(152632, 20)"
      ]
     },
     "execution_count": 18,
     "metadata": {},
     "output_type": "execute_result"
    }
   ],
   "source": [
    "black = data[data.subject_race == 'black']\n",
    "black.shape"
   ]
  },
  {
   "cell_type": "code",
   "execution_count": 19,
   "metadata": {},
   "outputs": [
    {
     "name": "stdout",
     "output_type": "stream",
     "text": [
      "citation    266534\n",
      "warning      99038\n",
      "arrest        3982\n",
      "Name: outcome, dtype: int64\n",
      "citation    83874\n",
      "warning     60904\n",
      "arrest       3554\n",
      "Name: outcome, dtype: int64\n"
     ]
    }
   ],
   "source": [
    "print(white.outcome.value_counts())\n",
    "print(black.outcome.value_counts())"
   ]
  },
  {
   "cell_type": "code",
   "execution_count": 22,
   "metadata": {},
   "outputs": [
    {
     "data": {
      "text/plain": [
       "Index(['raw_row_number', 'date', 'time', 'location', 'lat', 'lng', 'district',\n",
       "       'subject_age', 'subject_race', 'subject_sex', 'type', 'arrest_made',\n",
       "       'citation_issued', 'warning_issued', 'outcome', 'contraband_found',\n",
       "       'search_conducted', 'search_vehicle', 'search_basis',\n",
       "       'reason_for_stop'],\n",
       "      dtype='object')"
      ]
     },
     "execution_count": 22,
     "metadata": {},
     "output_type": "execute_result"
    }
   ],
   "source": [
    "data.columns"
   ]
  },
  {
   "cell_type": "code",
   "execution_count": null,
   "metadata": {},
   "outputs": [],
   "source": []
  }
 ],
 "metadata": {
  "kernelspec": {
   "display_name": "Python 3",
   "language": "python",
   "name": "python3"
  },
  "language_info": {
   "codemirror_mode": {
    "name": "ipython",
    "version": 3
   },
   "file_extension": ".py",
   "mimetype": "text/x-python",
   "name": "python",
   "nbconvert_exporter": "python",
   "pygments_lexer": "ipython3",
   "version": "3.6.5"
  }
 },
 "nbformat": 4,
 "nbformat_minor": 2
}
