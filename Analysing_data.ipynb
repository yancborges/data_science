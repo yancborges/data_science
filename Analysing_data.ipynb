{
 "cells": [
  {
   "cell_type": "code",
   "execution_count": 2,
   "metadata": {},
   "outputs": [],
   "source": [
    "############################## Analysing data\n",
    "import pandas as pd"
   ]
  },
  {
   "cell_type": "code",
   "execution_count": 3,
   "metadata": {},
   "outputs": [
    {
     "name": "stderr",
     "output_type": "stream",
     "text": [
      "c:\\python36\\lib\\site-packages\\IPython\\core\\interactiveshell.py:3044: DtypeWarning: Columns (6) have mixed types. Specify dtype option on import or set low_memory=False.\n",
      "  interactivity=interactivity, compiler=compiler, result=result)\n"
     ]
    }
   ],
   "source": [
    "data = pd.read_csv('C://Users//Yan//Documents//GitHub//STORAGE//sa_police.csv')"
   ]
  },
  {
   "cell_type": "code",
   "execution_count": 4,
   "metadata": {},
   "outputs": [
    {
     "data": {
      "text/plain": [
       "Index(['raw_row_number', 'date', 'time', 'location', 'lat', 'lng', 'district',\n",
       "       'subject_age', 'subject_race', 'subject_sex', 'type', 'arrest_made',\n",
       "       'citation_issued', 'warning_issued', 'outcome', 'contraband_found',\n",
       "       'search_conducted', 'search_vehicle', 'search_basis',\n",
       "       'reason_for_stop'],\n",
       "      dtype='object')"
      ]
     },
     "execution_count": 4,
     "metadata": {},
     "output_type": "execute_result"
    }
   ],
   "source": [
    "data.columns"
   ]
  },
  {
   "cell_type": "code",
   "execution_count": 5,
   "metadata": {},
   "outputs": [
    {
     "data": {
      "text/plain": [
       "citation    633508\n",
       "warning     246471\n",
       "arrest       11967\n",
       "Name: outcome, dtype: int64"
      ]
     },
     "execution_count": 5,
     "metadata": {},
     "output_type": "execute_result"
    }
   ],
   "source": [
    "data.outcome.head()\n",
    "data.outcome.value_counts()"
   ]
  },
  {
   "cell_type": "code",
   "execution_count": 6,
   "metadata": {},
   "outputs": [
    {
     "data": {
      "text/plain": [
       "white                     0.411357\n",
       "asian/pacific islander    0.174244\n",
       "black                     0.168141\n",
       "hispanic                  0.128224\n",
       "other/unknown             0.118033\n",
       "Name: subject_race, dtype: float64"
      ]
     },
     "execution_count": 6,
     "metadata": {},
     "output_type": "execute_result"
    }
   ],
   "source": [
    "data.subject_race.value_counts(normalize=True)"
   ]
  },
  {
   "cell_type": "code",
   "execution_count": 7,
   "metadata": {},
   "outputs": [
    {
     "data": {
      "text/plain": [
       "(373414, 20)"
      ]
     },
     "execution_count": 7,
     "metadata": {},
     "output_type": "execute_result"
    }
   ],
   "source": [
    "white = data[data.subject_race == 'white']\n",
    "white.shape"
   ]
  },
  {
   "cell_type": "code",
   "execution_count": 8,
   "metadata": {},
   "outputs": [
    {
     "data": {
      "text/plain": [
       "(152632, 20)"
      ]
     },
     "execution_count": 8,
     "metadata": {},
     "output_type": "execute_result"
    }
   ],
   "source": [
    "black = data[data.subject_race == 'black']\n",
    "black.shape"
   ]
  },
  {
   "cell_type": "code",
   "execution_count": 9,
   "metadata": {},
   "outputs": [
    {
     "name": "stdout",
     "output_type": "stream",
     "text": [
      "citation    266534\n",
      "warning      99038\n",
      "arrest        3982\n",
      "Name: outcome, dtype: int64\n",
      "citation    83874\n",
      "warning     60904\n",
      "arrest       3554\n",
      "Name: outcome, dtype: int64\n"
     ]
    }
   ],
   "source": [
    "print(white.outcome.value_counts())\n",
    "print(black.outcome.value_counts())"
   ]
  },
  {
   "cell_type": "code",
   "execution_count": 10,
   "metadata": {},
   "outputs": [],
   "source": [
    "data.columns\n",
    "data.subject_sex.head()\n",
    "male = data[data.subject_sex == 'male']\n",
    "female = data[data.subject_sex == 'female']"
   ]
  },
  {
   "cell_type": "code",
   "execution_count": 11,
   "metadata": {},
   "outputs": [
    {
     "name": "stdout",
     "output_type": "stream",
     "text": [
      "citation    0.708424\n",
      "warning     0.276563\n",
      "arrest      0.015013\n",
      "Name: outcome, dtype: float64 \n",
      " citation    0.714620\n",
      "warning     0.275772\n",
      "arrest      0.009609\n",
      "Name: outcome, dtype: float64\n"
     ]
    }
   ],
   "source": [
    "print(male.outcome.value_counts(normalize=True),'\\n',female.outcome.value_counts(normalize=True))"
   ]
  },
  {
   "cell_type": "code",
   "execution_count": 12,
   "metadata": {},
   "outputs": [],
   "source": [
    "data.arrest_made.head()\n",
    "criminal_female = data[(data.subject_sex == 'female') & (data.arrest_made == True)]"
   ]
  },
  {
   "cell_type": "code",
   "execution_count": 13,
   "metadata": {},
   "outputs": [
    {
     "data": {
      "text/plain": [
       "(2531, 20)"
      ]
     },
     "execution_count": 13,
     "metadata": {},
     "output_type": "execute_result"
    }
   ],
   "source": [
    "criminal_female.shape"
   ]
  },
  {
   "cell_type": "code",
   "execution_count": 14,
   "metadata": {},
   "outputs": [
    {
     "data": {
      "text/plain": [
       "True     633508\n",
       "False    274253\n",
       "Name: citation_issued, dtype: int64"
      ]
     },
     "execution_count": 14,
     "metadata": {},
     "output_type": "execute_result"
    }
   ],
   "source": [
    "data.citation_issued.value_counts()"
   ]
  },
  {
   "cell_type": "code",
   "execution_count": 15,
   "metadata": {},
   "outputs": [
    {
     "data": {
      "text/plain": [
       "Moving Violation                             565071\n",
       "Mechanical or Non-Moving Violation (V.C.)    332326\n",
       "MPC Violation                                  3579\n",
       "Traffic Collision                              1365\n",
       "BOLO/APB/Warrant                               1214\n",
       "DUI Check                                      1044\n",
       "Assistance to Motorist                          938\n",
       "Name: reason_for_stop, dtype: int64"
      ]
     },
     "execution_count": 15,
     "metadata": {},
     "output_type": "execute_result"
    }
   ],
   "source": [
    "data.reason_for_stop.value_counts()"
   ]
  },
  {
   "cell_type": "code",
   "execution_count": 17,
   "metadata": {},
   "outputs": [
    {
     "data": {
      "text/plain": [
       "(433, 20)"
      ]
     },
     "execution_count": 17,
     "metadata": {},
     "output_type": "execute_result"
    }
   ],
   "source": [
    "bad_female_drivers = data[(data.subject_sex == 'female') & (data.reason_for_stop == 'Traffic Collision')]\n",
    "bad_female_drivers.shape"
   ]
  },
  {
   "cell_type": "code",
   "execution_count": 18,
   "metadata": {},
   "outputs": [
    {
     "data": {
      "text/plain": [
       "(932, 20)"
      ]
     },
     "execution_count": 18,
     "metadata": {},
     "output_type": "execute_result"
    }
   ],
   "source": [
    "bad_male_drivers = data[(data.subject_sex == 'male') & (data.reason_for_stop == 'Traffic Collision')]\n",
    "bad_male_drivers.shape"
   ]
  },
  {
   "cell_type": "code",
   "execution_count": 20,
   "metadata": {},
   "outputs": [
    {
     "name": "stdout",
     "output_type": "stream",
     "text": [
      "False    0.933025\n",
      "True     0.066975\n",
      "Name: arrest_made, dtype: float64\n",
      "False    0.893777\n",
      "True     0.106223\n",
      "Name: arrest_made, dtype: float64\n"
     ]
    }
   ],
   "source": [
    "print(bad_female_drivers.arrest_made.value_counts(normalize=True))\n",
    "print(bad_male_drivers.arrest_made.value_counts(normalize=True))"
   ]
  },
  {
   "cell_type": "code",
   "execution_count": 27,
   "metadata": {},
   "outputs": [
    {
     "data": {
      "text/plain": [
       "array(['E', 'J', 'D', 'H', 'I', 'C', 'F', 'B', 'K', 'A', 'G', 'T', 'S',\n",
       "       nan], dtype=object)"
      ]
     },
     "execution_count": 27,
     "metadata": {},
     "output_type": "execute_result"
    }
   ],
   "source": [
    "data.district.unique()"
   ]
  },
  {
   "cell_type": "code",
   "execution_count": 29,
   "metadata": {},
   "outputs": [
    {
     "data": {
      "text/plain": [
       "[0.01310856372218476,\n",
       " 0.01654785050766904,\n",
       " 0.02140150868689627,\n",
       " 0.015831806149460396,\n",
       " 0.010343050647820966,\n",
       " 0.015470225829733376,\n",
       " 0.010367471048715791,\n",
       " 0.011015393306030222,\n",
       " 0.00510204081632653,\n",
       " 0.009072854305676606,\n",
       " 0.011372544431314278,\n",
       " 0.02040816326530612,\n",
       " 0.009652509652509652,\n",
       " nan]"
      ]
     },
     "execution_count": 29,
     "metadata": {},
     "output_type": "execute_result"
    }
   ],
   "source": [
    "percents = []\n",
    "for d in data.district.unique():\n",
    "    percents.append(data[data.district == d].arrest_made.mean())\n",
    "percents"
   ]
  },
  {
   "cell_type": "code",
   "execution_count": 30,
   "metadata": {},
   "outputs": [
    {
     "data": {
      "text/plain": [
       "district\n",
       "A    0.009073\n",
       "B    0.011015\n",
       "C    0.015470\n",
       "D    0.021402\n",
       "E    0.013109\n",
       "F    0.010367\n",
       "G    0.011373\n",
       "H    0.015832\n",
       "I    0.010343\n",
       "J    0.016548\n",
       "K    0.005102\n",
       "S    0.009653\n",
       "T    0.020408\n",
       "Name: arrest_made, dtype: float64"
      ]
     },
     "execution_count": 30,
     "metadata": {},
     "output_type": "execute_result"
    }
   ],
   "source": [
    "data.groupby('district').arrest_made.mean()"
   ]
  },
  {
   "cell_type": "code",
   "execution_count": 33,
   "metadata": {},
   "outputs": [
    {
     "data": {
      "text/plain": [
       "district  subject_sex\n",
       "A         female         0.007275\n",
       "          male           0.009586\n",
       "B         female         0.007600\n",
       "          male           0.012287\n",
       "C         female         0.011805\n",
       "          male           0.017070\n",
       "D         female         0.014571\n",
       "          male           0.024041\n",
       "E         female         0.009505\n",
       "          male           0.014607\n",
       "F         female         0.007466\n",
       "          male           0.011820\n",
       "G         female         0.008182\n",
       "          male           0.012926\n",
       "H         female         0.011812\n",
       "          male           0.017689\n",
       "I         female         0.006756\n",
       "          male           0.012042\n",
       "J         female         0.013115\n",
       "          male           0.017615\n",
       "K         female         0.000000\n",
       "          male           0.006024\n",
       "S         female         0.010989\n",
       "          male           0.009368\n",
       "T         female         0.033898\n",
       "          male           0.014599\n",
       "Name: arrest_made, dtype: float64"
      ]
     },
     "execution_count": 33,
     "metadata": {},
     "output_type": "execute_result"
    }
   ],
   "source": [
    "data.groupby(['district', 'subject_sex']).arrest_made.mean()"
   ]
  },
  {
   "cell_type": "code",
   "execution_count": 34,
   "metadata": {},
   "outputs": [
    {
     "data": {
      "text/plain": [
       "Index(['raw_row_number', 'date', 'time', 'location', 'lat', 'lng', 'district',\n",
       "       'subject_age', 'subject_race', 'subject_sex', 'type', 'arrest_made',\n",
       "       'citation_issued', 'warning_issued', 'outcome', 'contraband_found',\n",
       "       'search_conducted', 'search_vehicle', 'search_basis',\n",
       "       'reason_for_stop'],\n",
       "      dtype='object')"
      ]
     },
     "execution_count": 34,
     "metadata": {},
     "output_type": "execute_result"
    }
   ],
   "source": [
    "data.columns"
   ]
  },
  {
   "cell_type": "code",
   "execution_count": 36,
   "metadata": {},
   "outputs": [
    {
     "data": {
      "text/plain": [
       "other      0.912047\n",
       "consent    0.087953\n",
       "Name: search_basis, dtype: float64"
      ]
     },
     "execution_count": 36,
     "metadata": {},
     "output_type": "execute_result"
    }
   ],
   "source": [
    "data.search_basis.value_counts(normalize=True)"
   ]
  },
  {
   "cell_type": "code",
   "execution_count": null,
   "metadata": {},
   "outputs": [],
   "source": []
  }
 ],
 "metadata": {
  "kernelspec": {
   "display_name": "Python 3",
   "language": "python",
   "name": "python3"
  },
  "language_info": {
   "codemirror_mode": {
    "name": "ipython",
    "version": 3
   },
   "file_extension": ".py",
   "mimetype": "text/x-python",
   "name": "python",
   "nbconvert_exporter": "python",
   "pygments_lexer": "ipython3",
   "version": "3.6.5"
  }
 },
 "nbformat": 4,
 "nbformat_minor": 2
}
